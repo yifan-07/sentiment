{
 "cells": [
  {
   "cell_type": "code",
   "execution_count": 1,
   "id": "b328e49f",
   "metadata": {},
   "outputs": [],
   "source": [
    "import nltk\n",
    "from nltk.tokenize import sent_tokenize\n",
    "from nltk.tokenize import word_tokenize\n",
    "from nltk.probability import FreqDist # word freq\n",
    "import matplotlib.pyplot as plt\n",
    "from nltk.corpus import stopwords # stopword\n",
    "from nltk.stem import PorterStemmer\n",
    "from nltk.stem import WordNetLemmatizer"
   ]
  },
  {
   "cell_type": "markdown",
   "id": "51dda61a",
   "metadata": {},
   "source": [
    "## tokenize\n",
    "* sentiment\n",
    "* word"
   ]
  },
  {
   "cell_type": "code",
   "execution_count": 2,
   "id": "ac77e43d",
   "metadata": {},
   "outputs": [
    {
     "name": "stdout",
     "output_type": "stream",
     "text": [
      "sent_tokenize:  ['Hello Mr. Smith, how are you doing today?', 'The weather is great, and city is awesome.', 'the sky is pinkish-blue.', \"You shouldn't eat carboard\"]\n",
      "word_tokenize:  ['Hello', 'Mr.', 'Smith', ',', 'how', 'are', 'you', 'doing', 'today', '?', 'The', 'weather', 'is', 'great', ',', 'and', 'city', 'is', 'awesome', '.', 'the', 'sky', 'is', 'pinkish-blue', '.', 'You', 'should', \"n't\", 'eat', 'carboard']\n"
     ]
    }
   ],
   "source": [
    "text = \"\"\"Hello Mr. Smith, how are you doing today? The weather is great, and city is awesome.\n",
    "    the sky is pinkish-blue. You shouldn't eat carboard\"\"\"\n",
    "\n",
    "tokenized_text = sent_tokenize(text) # sentence\n",
    "print('sent_tokenize: ', tokenized_text)\n",
    "\n",
    "tokenized_word = word_tokenize(text) # word\n",
    "print('word_tokenize: ', tokenized_word)"
   ]
  },
  {
   "cell_type": "code",
   "execution_count": 3,
   "id": "75ccac3e",
   "metadata": {},
   "outputs": [
    {
     "name": "stdout",
     "output_type": "stream",
     "text": [
      "<FreqDist with 26 samples and 30 outcomes>\n",
      "most common(2):  [('is', 3), (',', 2)]\n"
     ]
    },
    {
     "data": {
      "image/png": "[encoded data removed]",
      "text/plain": [
       "<Figure size 720x720 with 1 Axes>"
      ]
     },
     "metadata": {},
     "output_type": "display_data"
    }
   ],
   "source": [
    "fdist = FreqDist(tokenized_word)\n",
    "print(fdist)\n",
    "\n",
    "print('most common(2): ', fdist.most_common(2))\n",
    "plt.figure(facecolor = 'grey', figsize = (10,10))\n",
    "fdist.plot(30, cumulative = False)\n",
    "plt.show()"
   ]
  },
  {
   "cell_type": "markdown",
   "id": "4198e4df",
   "metadata": {},
   "source": [
    "## stop word"
   ]
  },
  {
   "cell_type": "code",
   "execution_count": 4,
   "id": "fe4239e0",
   "metadata": {},
   "outputs": [
    {
     "name": "stdout",
     "output_type": "stream",
     "text": [
      "number of words:  179\n",
      "Tokenized words:  ['Hello', 'Mr.', 'Smith', ',', 'how', 'are', 'you', 'doing', 'today', '?', 'The', 'weather', 'is', 'great', ',', 'and', 'city', 'is', 'awesome', '.', 'the', 'sky', 'is', 'pinkish-blue', '.', 'You', 'should', \"n't\", 'eat', 'carboard']\n",
      "Filtered words:  ['Hello', 'Mr.', 'Smith', ',', 'today', '?', 'The', 'weather', 'great', ',', 'city', 'awesome', '.', 'sky', 'pinkish-blue', '.', 'You', \"n't\", 'eat', 'carboard']\n"
     ]
    }
   ],
   "source": [
    "stop_words = set(stopwords.words('english')) # stopword\n",
    "print('number of words: ', len(stop_words))\n",
    "\n",
    "filtered_sent = [] # remove stopword\n",
    "for w in tokenized_word:\n",
    "    if w not in stop_words:\n",
    "        filtered_sent.append(w)\n",
    "print('Tokenized words: ', tokenized_word)\n",
    "print('Filtered words: ', filtered_sent)"
   ]
  },
  {
   "cell_type": "markdown",
   "id": "ab5c30fa",
   "metadata": {},
   "source": [
    "## stemming"
   ]
  },
  {
   "cell_type": "code",
   "execution_count": 5,
   "id": "ef9d1a53",
   "metadata": {},
   "outputs": [
    {
     "name": "stdout",
     "output_type": "stream",
     "text": [
      "Filtered words ['Hello', 'Mr.', 'Smith', ',', 'how', 'are', 'you', 'doing', 'today', '?', 'The', 'weather', 'is', 'great', ',', 'and', 'city', 'is', 'awesome', '.', 'the', 'sky', 'is', 'pinkish-blue', '.', 'You', 'should', \"n't\", 'eat', 'carboard']\n",
      "porterstemmer words: ['hello', 'mr.', 'smith', ',', 'today', '?', 'the', 'weather', 'great', ',', 'citi', 'awesom', '.', 'sky', 'pinkish-blu', '.', 'you', \"n't\", 'eat', 'carboard']\n",
      "Lemmatized word:  fly\n",
      "Stemmed word:  fli\n"
     ]
    }
   ],
   "source": [
    "ps = PorterStemmer()\n",
    "stemmed_words = []\n",
    "for w in filtered_sent:\n",
    "    stemmed_words.append(ps.stem(w))\n",
    "\n",
    "print('Filtered words', tokenized_word)\n",
    "print('porterstemmer words:', stemmed_words)\n",
    "\n",
    "lem = WordNetLemmatizer()\n",
    "stem = PorterStemmer()\n",
    "\n",
    "word = 'flying'\n",
    "print('Lemmatized word: ', lem.lemmatize(word, \"v\"))\n",
    "print('Stemmed word: ', stem.stem(word))"
   ]
  },
  {
   "cell_type": "markdown",
   "id": "fd3d2b1b",
   "metadata": {},
   "source": [
    "## POS tag"
   ]
  },
  {
   "cell_type": "code",
   "execution_count": 6,
   "id": "945ce9cb",
   "metadata": {},
   "outputs": [
    {
     "name": "stdout",
     "output_type": "stream",
     "text": [
      "tokens:  ['Albert', 'Einstein', 'was', 'born', 'in', 'Ulm', ',', 'Germany', 'in', '1879', '.']\n",
      "[('Albert', 'NNP'), ('Einstein', 'NNP'), ('was', 'VBD'), ('born', 'VBN'), ('in', 'IN'), ('Ulm', 'NNP'), (',', ','), ('Germany', 'NNP'), ('in', 'IN'), ('1879', 'CD'), ('.', '.')]\n"
     ]
    }
   ],
   "source": [
    "sent = \"Albert Einstein was born in Ulm, Germany in 1879.\" \n",
    "tokens = nltk.word_tokenize(sent)\n",
    "print('tokens: ', tokens)\n",
    "print(nltk.pos_tag(tokens))"
   ]
  }
 ],
 "metadata": {
  "kernelspec": {
   "display_name": "Python 3",
   "language": "python",
   "name": "python3"
  },
  "language_info": {
   "codemirror_mode": {
    "name": "ipython",
    "version": 3
   },
   "file_extension": ".py",
   "mimetype": "text/x-python",
   "name": "python",
   "nbconvert_exporter": "python",
   "pygments_lexer": "ipython3",
   "version": "3.6.9"
  }
 },
 "nbformat": 4,
 "nbformat_minor": 5
}
