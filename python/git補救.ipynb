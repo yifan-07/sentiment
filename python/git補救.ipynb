{
 "cells": [
  {
   "cell_type": "markdown",
   "id": "a1930de4",
   "metadata": {},
   "source": [
    "git add. 還沒commit 就git reset -- hard補救方法"
   ]
  },
  {
   "cell_type": "code",
   "execution_count": null,
   "id": "6e5a542c",
   "metadata": {},
   "outputs": [],
   "source": [
    "from subprocess import call\n",
    "import os "
   ]
  },
  {
   "cell_type": "code",
   "execution_count": null,
   "id": "fed3ad3b",
   "metadata": {},
   "outputs": [],
   "source": [
    "commits = ['a58dc7f94b864380b5a0d81cd350c02364c32eda']"
   ]
  },
  {
   "cell_type": "code",
   "execution_count": null,
   "id": "6ec0d3e1",
   "metadata": {},
   "outputs": [],
   "source": [
    "filename = 'file'\n",
    "i = 1\n",
    "for c in commits:\n",
    "    print(i)\n",
    "    f = open(filename + str(i), 'wb')\n",
    "    call(['git', 'show', c], stdout = f)\n",
    "    i+=1"
   ]
  },
  {
   "cell_type": "code",
   "execution_count": null,
   "id": "e0dd5f1d",
   "metadata": {},
   "outputs": [],
   "source": []
  },
  {
   "cell_type": "code",
   "execution_count": null,
   "id": "5ac1f19a",
   "metadata": {},
   "outputs": [],
   "source": []
  }
 ],
 "metadata": {
  "kernelspec": {
   "display_name": "Python 3",
   "language": "python",
   "name": "python3"
  },
  "language_info": {
   "codemirror_mode": {
    "name": "ipython",
    "version": 3
   },
   "file_extension": ".py",
   "mimetype": "text/x-python",
   "name": "python",
   "nbconvert_exporter": "python",
   "pygments_lexer": "ipython3",
   "version": "3.6.9"
  }
 },
 "nbformat": 4,
 "nbformat_minor": 5
}
