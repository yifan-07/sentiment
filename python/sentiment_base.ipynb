{
 "cells": [
  {
   "cell_type": "markdown",
   "id": "d3aa8feb",
   "metadata": {},
   "source": [
    "data: https://www.kaggle.com/c/sentiment-analysis-on-movie-reviews/data  "
   ]
  },
  {
   "cell_type": "code",
   "execution_count": 1,
   "id": "dd0916d7",
   "metadata": {},
   "outputs": [],
   "source": [
    "import pandas as pd\n",
    "import matplotlib.pyplot as plt\n",
    "from sklearn.feature_extraction.text import CountVectorizer, TfidfVectorizer   \n",
    "from nltk.tokenize import RegexpTokenizer\n",
    "from sklearn.model_selection import train_test_split\n",
    "from sklearn.naive_bayes import MultinomialNB\n",
    "from sklearn import metrics\n",
    "from sklearn.metrics import classification_report"
   ]
  },
  {
   "cell_type": "code",
   "execution_count": 2,
   "id": "1d8a74d8",
   "metadata": {},
   "outputs": [
    {
     "name": "stdout",
     "output_type": "stream",
     "text": [
      "data information\n",
      "<class 'pandas.core.frame.DataFrame'>\n",
      "RangeIndex: 156060 entries, 0 to 156059\n",
      "Data columns (total 4 columns):\n",
      " #   Column      Non-Null Count   Dtype \n",
      "---  ------      --------------   ----- \n",
      " 0   PhraseId    156060 non-null  int64 \n",
      " 1   SentenceId  156060 non-null  int64 \n",
      " 2   Phrase      156060 non-null  object\n",
      " 3   Sentiment   156060 non-null  int64 \n",
      "dtypes: int64(3), object(1)\n",
      "memory usage: 4.8+ MB\n",
      "None\n",
      "train: ['PhraseId' 'SentenceId' 'Phrase' 'Sentiment'] \n",
      "test: ['PhraseId' 'SentenceId' 'Phrase']\n"
     ]
    }
   ],
   "source": [
    "train = pd.read_csv('/home/bettyliao/sentiment/data/kaggle_movie_reviews/train.tsv', sep = '\\t')\n",
    "test = pd.read_csv('/home/bettyliao/sentiment/data/kaggle_movie_reviews/test.tsv', sep = '\\t')\n",
    "print('data information')\n",
    "print(train.info())\n",
    "print(f\"\"\"train: {train.columns.values} \\ntest: {test.columns.values}\"\"\")"
   ]
  },
  {
   "cell_type": "code",
   "execution_count": 3,
   "id": "041aae02",
   "metadata": {},
   "outputs": [
    {
     "data": {
      "image/png": "[encoded data removed]",
      "text/plain": [
       "<Figure size 720x576 with 1 Axes>"
      ]
     },
     "metadata": {},
     "output_type": "display_data"
    }
   ],
   "source": [
    "sentiment_count = train.groupby(['Sentiment']).count()\n",
    "plt.figure(figsize = (10,8), facecolor = 'grey')\n",
    "plt.bar(sentiment_count.index.values, sentiment_count['Phrase'])\n",
    "plt.xlabel('Review Sentiments')\n",
    "plt.ylabel('Number of Review')\n",
    "plt.show()"
   ]
  },
  {
   "cell_type": "markdown",
   "id": "0b878be5",
   "metadata": {},
   "source": [
    "## feature generation\n",
    "* CountVectorizer\n",
    "* TfidfVectorizzer"
   ]
  },
  {
   "cell_type": "code",
   "execution_count": 4,
   "id": "e569dc24",
   "metadata": {},
   "outputs": [
    {
     "name": "stdout",
     "output_type": "stream",
     "text": [
      "Count_MultinomialNB Accuracy: \n",
      "               precision    recall  f1-score   support\n",
      "\n",
      "           0     0.4332    0.2676    0.3308      2119\n",
      "           1     0.4864    0.4119    0.4461      8277\n",
      "           2     0.6828    0.7817    0.7289     23816\n",
      "           3     0.5183    0.4980    0.5080      9936\n",
      "           4     0.4621    0.2921    0.3580      2670\n",
      "\n",
      "    accuracy                         0.6049     46818\n",
      "   macro avg     0.5166    0.4503    0.4743     46818\n",
      "weighted avg     0.5893    0.6049    0.5928     46818\n",
      "\n"
     ]
    }
   ],
   "source": [
    "# countvectorizer\n",
    "token = RegexpTokenizer(r'[a-zA-Z0-9]+')\n",
    "cv = CountVectorizer(lowercase = True, stop_words = 'english', \n",
    "                    ngram_range = (1,1), tokenizer = token.tokenize) # 轉為小寫並去除停用字    \n",
    "text_counts = cv.fit_transform(train['Phrase'])\n",
    "\n",
    "X_train, X_test, y_train, y_test = train_test_split(text_counts, train['Sentiment'], \n",
    "                                                    test_size = 0.3, random_state = 1) \n",
    "clf = MultinomialNB().fit(X_train, y_train)\n",
    "predicted = clf.predict(X_test)\n",
    "print('Count_MultinomialNB Accuracy: \\n', classification_report(y_test, predicted, digits = 4))\n",
    "test_transform_cv = cv.transform(test['Phrase'])\n",
    "test_predictions_cn = clf.predict(test_transform_cv)"
   ]
  },
  {
   "cell_type": "code",
   "execution_count": 5,
   "id": "3368d36e",
   "metadata": {},
   "outputs": [
    {
     "name": "stdout",
     "output_type": "stream",
     "text": [
      "tfidf_MultinomialNB Accuracy: \n",
      "               precision    recall  f1-score   support\n",
      "\n",
      "           0     0.5612    0.0260    0.0496      2119\n",
      "           1     0.5177    0.2444    0.3320      8277\n",
      "           2     0.6012    0.8981    0.7203     23816\n",
      "           3     0.5426    0.3838    0.4496      9936\n",
      "           4     0.5865    0.0457    0.0848      2670\n",
      "\n",
      "    accuracy                         0.5853     46818\n",
      "   macro avg     0.5619    0.3196    0.3273     46818\n",
      "weighted avg     0.5714    0.5853    0.5276     46818\n",
      "\n"
     ]
    }
   ],
   "source": [
    "# tfidfvectorizer\n",
    "tf = TfidfVectorizer()\n",
    "text_tf = tf.fit_transform(train['Phrase'])\n",
    "#train_tf = text_counts[:156060]\n",
    "#test_tf = text_counts[156060:]\n",
    "X_train, X_test, y_train, y_test = train_test_split(text_tf, train['Sentiment'], \n",
    "                                                   test_size = 0.3, random_state = 1) \n",
    "clf = MultinomialNB().fit(X_train, y_train)\n",
    "predicted = clf.predict(X_test)\n",
    "print('tfidf_MultinomialNB Accuracy: \\n', classification_report(y_test, predicted, digits = 4)) \n",
    "test_transform_tf = tf.transform(test['Phrase'])\n",
    "test_prediction_tf = clf.predict(test_transform_tf)"
   ]
  },
  {
   "cell_type": "code",
   "execution_count": 6,
   "id": "7a63dd0a",
   "metadata": {},
   "outputs": [
    {
     "name": "stdout",
     "output_type": "stream",
     "text": [
      " count:    PhraseId  Sentiment\n",
      "0    156061          3\n",
      "1    156062          3\n",
      "2    156063          2\n",
      "3    156064          3\n",
      "4    156065          3 \n",
      "tfidf:    PhraseId  Sentiment\n",
      "0    156061          3\n",
      "1    156062          3\n",
      "2    156063          2\n",
      "3    156064          3\n",
      "4    156065          3\n"
     ]
    },
    {
     "name": "stderr",
     "output_type": "stream",
     "text": [
      "/home/bettyliao/sentiment/sentiment/lib/python3.6/site-packages/ipykernel_launcher.py:2: SettingWithCopyWarning: \n",
      "A value is trying to be set on a copy of a slice from a DataFrame.\n",
      "Try using .loc[row_indexer,col_indexer] = value instead\n",
      "\n",
      "See the caveats in the documentation: https://pandas.pydata.org/pandas-docs/stable/user_guide/indexing.html#returning-a-view-versus-a-copy\n",
      "  \n",
      "/home/bettyliao/sentiment/sentiment/lib/python3.6/site-packages/ipykernel_launcher.py:5: SettingWithCopyWarning: \n",
      "A value is trying to be set on a copy of a slice from a DataFrame.\n",
      "Try using .loc[row_indexer,col_indexer] = value instead\n",
      "\n",
      "See the caveats in the documentation: https://pandas.pydata.org/pandas-docs/stable/user_guide/indexing.html#returning-a-view-versus-a-copy\n",
      "  \"\"\"\n"
     ]
    }
   ],
   "source": [
    "submit_cn = test[['PhraseId']]\n",
    "submit_cn['Sentiment'] = test_predictions_cn \n",
    "\n",
    "submit_tf = test[['PhraseId']]\n",
    "submit_tf['Sentiment'] = test_prediction_tf \n",
    "print(f\"\"\" count: {submit_cn.head()} \\ntfidf: {submit_tf.head()}\"\"\")"
   ]
  },
  {
   "cell_type": "code",
   "execution_count": 8,
   "id": "719125b8",
   "metadata": {},
   "outputs": [],
   "source": [
    "submit_cn.to_csv('/home/bettyliao/sentiment/output/count_result(1).csv', index = False)\n",
    "submit_tf.to_csv('/home/bettyliao/sentiment/output/tfidf_result(1).csv', index = False)"
   ]
  }
 ],
 "metadata": {
  "kernelspec": {
   "display_name": "Python 3",
   "language": "python",
   "name": "python3"
  },
  "language_info": {
   "codemirror_mode": {
    "name": "ipython",
    "version": 3
   },
   "file_extension": ".py",
   "mimetype": "text/x-python",
   "name": "python",
   "nbconvert_exporter": "python",
   "pygments_lexer": "ipython3",
   "version": "3.6.9"
  }
 },
 "nbformat": 4,
 "nbformat_minor": 5
}
