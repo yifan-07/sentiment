{
 "cells": [
  {
   "cell_type": "markdown",
   "id": "53cc0e8a",
   "metadata": {},
   "source": [
    "# 電影評論\n",
    "* data = https://www.kaggle.com/c/sentiment-analysis-on-movie-reviews/data  \n",
    "submmit: https://www.kaggle.com/c/sentiment-analysis-on-movie-reviews/submit  \n",
    "* step\n",
    "### 1. [準備原始文本數據](#preprocessing)\n",
    "### 2. [BERT格式](#bertmode)\n",
    "### 3. [下游任務模型](#finetune)\n",
    "### 4. [訓練模型](#model)\n",
    "### 5. [新樣本預測](#predict)"
   ]
  },
  {
   "cell_type": "code",
   "execution_count": 1,
   "id": "6ff05615",
   "metadata": {},
   "outputs": [],
   "source": [
    "import pandas as pd\n",
    "import matplotlib.pyplot as plt\n",
    "from transformers import BertTokenizer, BertModel, BertForMaskedLM\n",
    "import os\n",
    "import torch\n",
    "from IPython.display import clear_output\n",
    "from torch.utils.data import Dataset, DataLoader\n",
    "from torch.nn.utils.rnn import pad_sequence\n",
    "from transformers import BertForSequenceClassification"
   ]
  },
  {
   "cell_type": "markdown",
   "id": "c4c8b25b",
   "metadata": {},
   "source": [
    "<a id = preprocessing></a>\n",
    "### 準備原始文本數據"
   ]
  },
  {
   "cell_type": "code",
   "execution_count": 2,
   "id": "8311c9e6",
   "metadata": {},
   "outputs": [
    {
     "name": "stdout",
     "output_type": "stream",
     "text": [
      "train: ['PhraseId' 'SentenceId' 'Phrase' 'Sentiment']\n",
      "test: ['PhraseId' 'SentenceId' 'Phrase']\n",
      "\n",
      "<class 'pandas.core.frame.DataFrame'>\n",
      "RangeIndex: 156060 entries, 0 to 156059\n",
      "Data columns (total 4 columns):\n",
      " #   Column      Non-Null Count   Dtype \n",
      "---  ------      --------------   ----- \n",
      " 0   PhraseId    156060 non-null  int64 \n",
      " 1   SentenceId  156060 non-null  int64 \n",
      " 2   Phrase      156060 non-null  object\n",
      " 3   Sentiment   156060 non-null  int64 \n",
      "dtypes: int64(3), object(1)\n",
      "memory usage: 4.8+ MB\n",
      "<class 'pandas.core.frame.DataFrame'>\n",
      "RangeIndex: 66292 entries, 0 to 66291\n",
      "Data columns (total 3 columns):\n",
      " #   Column      Non-Null Count  Dtype \n",
      "---  ------      --------------  ----- \n",
      " 0   PhraseId    66292 non-null  int64 \n",
      " 1   SentenceId  66292 non-null  int64 \n",
      " 2   Phrase      66292 non-null  object\n",
      "dtypes: int64(2), object(1)\n",
      "memory usage: 1.5+ MB\n",
      "train info: None\n",
      "test info:None\n"
     ]
    }
   ],
   "source": [
    "train = pd.read_csv('/home/bettyliao/sentiment/data/kaggle_movie_reviews/train.tsv', sep = '\\t') \n",
    "test_ = pd.read_csv('/home/bettyliao/sentiment/data/kaggle_movie_reviews/test.tsv', sep = '\\t')\n",
    "print(f\"\"\"train: {train.columns.values}\\ntest: {test_.columns.values}\\n\"\"\") \n",
    "print(f\"\"\"train info: {train.info()}\\ntest info:{test_.info()}\"\"\")"
   ]
  },
  {
   "cell_type": "code",
   "execution_count": 3,
   "id": "3bb75e5b",
   "metadata": {},
   "outputs": [
    {
     "data": {
      "text/html": [
       "<div>\n",
       "<style scoped>\n",
       "    .dataframe tbody tr th:only-of-type {\n",
       "        vertical-align: middle;\n",
       "    }\n",
       "\n",
       "    .dataframe tbody tr th {\n",
       "        vertical-align: top;\n",
       "    }\n",
       "\n",
       "    .dataframe thead th {\n",
       "        text-align: right;\n",
       "    }\n",
       "</style>\n",
       "<table border=\"1\" class=\"dataframe\">\n",
       "  <thead>\n",
       "    <tr style=\"text-align: right;\">\n",
       "      <th></th>\n",
       "      <th>Phrase</th>\n",
       "      <th>Sentiment</th>\n",
       "    </tr>\n",
       "  </thead>\n",
       "  <tbody>\n",
       "    <tr>\n",
       "      <th>0</th>\n",
       "      <td>A series of escapades demonstrating the adage ...</td>\n",
       "      <td>1</td>\n",
       "    </tr>\n",
       "    <tr>\n",
       "      <th>1</th>\n",
       "      <td>A series of escapades demonstrating the adage ...</td>\n",
       "      <td>2</td>\n",
       "    </tr>\n",
       "    <tr>\n",
       "      <th>2</th>\n",
       "      <td>A series</td>\n",
       "      <td>2</td>\n",
       "    </tr>\n",
       "    <tr>\n",
       "      <th>3</th>\n",
       "      <td>A</td>\n",
       "      <td>2</td>\n",
       "    </tr>\n",
       "    <tr>\n",
       "      <th>4</th>\n",
       "      <td>series</td>\n",
       "      <td>2</td>\n",
       "    </tr>\n",
       "  </tbody>\n",
       "</table>\n",
       "</div>"
      ],
      "text/plain": [
       "                                              Phrase  Sentiment\n",
       "0  A series of escapades demonstrating the adage ...          1\n",
       "1  A series of escapades demonstrating the adage ...          2\n",
       "2                                           A series          2\n",
       "3                                                  A          2\n",
       "4                                             series          2"
      ]
     },
     "metadata": {},
     "output_type": "display_data"
    },
    {
     "data": {
      "text/html": [
       "<div>\n",
       "<style scoped>\n",
       "    .dataframe tbody tr th:only-of-type {\n",
       "        vertical-align: middle;\n",
       "    }\n",
       "\n",
       "    .dataframe tbody tr th {\n",
       "        vertical-align: top;\n",
       "    }\n",
       "\n",
       "    .dataframe thead th {\n",
       "        text-align: right;\n",
       "    }\n",
       "</style>\n",
       "<table border=\"1\" class=\"dataframe\">\n",
       "  <thead>\n",
       "    <tr style=\"text-align: right;\">\n",
       "      <th></th>\n",
       "      <th>Phrase</th>\n",
       "    </tr>\n",
       "  </thead>\n",
       "  <tbody>\n",
       "    <tr>\n",
       "      <th>0</th>\n",
       "      <td>An intermittently pleasing but mostly routine ...</td>\n",
       "    </tr>\n",
       "    <tr>\n",
       "      <th>1</th>\n",
       "      <td>An intermittently pleasing but mostly routine ...</td>\n",
       "    </tr>\n",
       "    <tr>\n",
       "      <th>2</th>\n",
       "      <td>An</td>\n",
       "    </tr>\n",
       "    <tr>\n",
       "      <th>3</th>\n",
       "      <td>intermittently pleasing but mostly routine effort</td>\n",
       "    </tr>\n",
       "    <tr>\n",
       "      <th>4</th>\n",
       "      <td>intermittently pleasing but mostly routine</td>\n",
       "    </tr>\n",
       "  </tbody>\n",
       "</table>\n",
       "</div>"
      ],
      "text/plain": [
       "                                              Phrase\n",
       "0  An intermittently pleasing but mostly routine ...\n",
       "1  An intermittently pleasing but mostly routine ...\n",
       "2                                                 An\n",
       "3  intermittently pleasing but mostly routine effort\n",
       "4         intermittently pleasing but mostly routine"
      ]
     },
     "metadata": {},
     "output_type": "display_data"
    }
   ],
   "source": [
    "train = train[['Phrase', 'Sentiment']]\n",
    "test = test_[['Phrase']]\n",
    "display(train.head(), test.head())"
   ]
  },
  {
   "cell_type": "code",
   "execution_count": 4,
   "id": "5e6e5eb8",
   "metadata": {},
   "outputs": [
    {
     "name": "stderr",
     "output_type": "stream",
     "text": [
      "/home/bettyliao/sentiment/sentiment/lib/python3.6/site-packages/ipykernel_launcher.py:3: SettingWithCopyWarning: \n",
      "A value is trying to be set on a copy of a slice from a DataFrame.\n",
      "Try using .loc[row_indexer,col_indexer] = value instead\n",
      "\n",
      "See the caveats in the documentation: https://pandas.pydata.org/pandas-docs/stable/user_guide/indexing.html#returning-a-view-versus-a-copy\n",
      "  This is separate from the ipykernel package so we can avoid doing imports until\n"
     ]
    }
   ],
   "source": [
    "train['Phrase'] = train['Phrase'].str.replace('\\.', '[SEP]')\n",
    "\n",
    "test['Phrase'] = test['Phrase'].str.replace('\\.', '[SEP]')"
   ]
  },
  {
   "cell_type": "code",
   "execution_count": 5,
   "id": "450834c2",
   "metadata": {
    "scrolled": true
   },
   "outputs": [
    {
     "name": "stdout",
     "output_type": "stream",
     "text": [
      "each catrgory ratio: \n",
      " 2    0.509945\n",
      "3    0.210989\n",
      "1    0.174760\n",
      "4    0.058990\n",
      "0    0.045316\n",
      "Name: Sentiment, dtype: float64\n"
     ]
    },
    {
     "data": {
      "image/png": "[encoded data removed]",
      "text/plain": [
       "<Figure size 432x288 with 1 Axes>"
      ]
     },
     "metadata": {},
     "output_type": "display_data"
    }
   ],
   "source": [
    "sent_count = train.groupby(['Sentiment']).size().to_frame('count').reset_index() \n",
    "plt.figure(facecolor = 'grey')\n",
    "plt.bar(sent_count['Sentiment'], sent_count['count'])\n",
    "plt.title('Sentiment distribute')\n",
    "print('each catrgory ratio: \\n',train['Sentiment'].value_counts()/ len(train))"
   ]
  },
  {
   "cell_type": "code",
   "execution_count": 6,
   "id": "a15e93da",
   "metadata": {},
   "outputs": [],
   "source": [
    "train_ = train.sample(frac = 0.01, random_state = 123).reset_index().drop(['index'], axis = 1)\n",
    "train_.to_csv('/home/bettyliao/sentiment/data/kaggle_movie_reviews/train1.tsv', sep = '\\t', index = False)\n",
    "test.to_csv('/home/bettyliao/sentiment/data/kaggle_movie_reviews/test1.tsv', sep = '\\t', index = False) "
   ]
  },
  {
   "cell_type": "markdown",
   "id": "16953e77",
   "metadata": {},
   "source": [
    "<a id = bertmode></a>\n",
    "### ● BERT格式"
   ]
  },
  {
   "cell_type": "code",
   "execution_count": 7,
   "id": "54a3f129",
   "metadata": {},
   "outputs": [],
   "source": [
    "PRETRAINED_MODEL_NAME = 'bert-base-cased'\n",
    "tokenizer = BertTokenizer.from_pretrained(PRETRAINED_MODEL_NAME) \n",
    "vocab = tokenizer.vocab # 28996"
   ]
  },
  {
   "cell_type": "code",
   "execution_count": 8,
   "id": "e5bba3cd",
   "metadata": {},
   "outputs": [],
   "source": [
    "class SentiDataset(Dataset):\n",
    "    os.chdir('/home/bettyliao/sentiment/data/kaggle_movie_reviews')\n",
    "    def __init__(self, mode, tokenizer):\n",
    "        assert mode in ['train1', 'test1']\n",
    "        self.mode = mode\n",
    "        self.df = pd.read_csv(mode + '.tsv', sep = '\\t').fillna('') \n",
    "        self.len = len(self.df)\n",
    "        self.tokenizer = tokenizer\n",
    "    def __getitem__(self, idx):\n",
    "        if self.mode == 'test1':\n",
    "            text_a = self.df.Phrase.iloc[idx]\n",
    "            text_b = ''\n",
    "            label_tensor = None\n",
    "        else:\n",
    "            text_a = self.df.Phrase.iloc[idx]\n",
    "            text_b = ''\n",
    "            label_tensor = torch.tensor(self.df.Sentiment.iloc[idx]) \n",
    "        # text_a\n",
    "        word_pieces = [\"[CLS]\"]\n",
    "        tokens_a = self.tokenizer.tokenize(text_a)\n",
    "        word_pieces += tokens_a\n",
    "        len_a = len(word_pieces)\n",
    "        \n",
    "        ids = self.tokenizer.convert_tokens_to_ids(word_pieces) \n",
    "        tokens_tensor = torch.tensor(ids)\n",
    "        segments_tensor = torch.tensor([0] * len_a, dtype = torch.long) \n",
    "        \n",
    "        return (tokens_tensor, segments_tensor, label_tensor)\n",
    "    def __len__(self):\n",
    "        return self.len"
   ]
  },
  {
   "cell_type": "code",
   "execution_count": 9,
   "id": "f1f37b2f",
   "metadata": {},
   "outputs": [],
   "source": [
    "trainset = SentiDataset('train1', tokenizer = tokenizer)"
   ]
  },
  {
   "cell_type": "code",
   "execution_count": 10,
   "id": "b6499ef5",
   "metadata": {},
   "outputs": [
    {
     "name": "stdout",
     "output_type": "stream",
     "text": [
      "\n",
      "[origin]\n",
      "sentence_a = Ken\n",
      "label = 2\n",
      "---------------------------\n",
      "[tensors]\n",
      "tokens_tensor: tensor([ 101, 5928])\n",
      "segments_tensor: tensor([0, 0])\n",
      "label_tensor: 2\n",
      "[text]\n",
      "[CLS] Ken\n",
      "\n"
     ]
    }
   ],
   "source": [
    "sample_idx = 0\n",
    "text_a, label = trainset.df.iloc[sample_idx].values  \n",
    "tokens_tensor, segments_tensor, label_tensor = trainset[sample_idx] \n",
    "tokens = tokenizer.convert_ids_to_tokens(tokens_tensor.tolist()) \n",
    "combined_text = ' '.join(tokens)\n",
    "\n",
    "print(f\"\"\"\n",
    "[origin]\n",
    "sentence_a = {text_a}\n",
    "label = {label}\n",
    "---------------------------\n",
    "[tensors]\n",
    "tokens_tensor: {tokens_tensor}\n",
    "segments_tensor: {segments_tensor}\n",
    "label_tensor: {label_tensor}\n",
    "[text]\n",
    "{combined_text}\n",
    "\"\"\")"
   ]
  },
  {
   "cell_type": "code",
   "execution_count": 11,
   "id": "8e345516",
   "metadata": {},
   "outputs": [],
   "source": [
    "def create_mini_batch(samples):\n",
    "    tokens_tensors = [s[0] for s in samples]\n",
    "    segments_tensors = [s[1] for s in samples]\n",
    "    if samples[0][2] is not None:\n",
    "        label_ids = torch.stack([s[2] for s in samples]) \n",
    "    else:\n",
    "        label_ids = None\n",
    "    tokens_tensors = pad_sequence(tokens_tensors, batch_first = True) \n",
    "    segments_tensors = pad_sequence(segments_tensors, batch_first = True) \n",
    "    masks_tensors = torch.zeros(tokens_tensors.shape, dtype = torch.long) \n",
    "    masks_tensors = masks_tensors.masked_fill(tokens_tensors != 0, 1)  \n",
    "    return tokens_tensors, segments_tensors, masks_tensors, label_ids\n",
    "batch_size = 64\n",
    "trainloader =  DataLoader(trainset, batch_size = batch_size, collate_fn = create_mini_batch)"
   ]
  },
  {
   "cell_type": "code",
   "execution_count": 12,
   "id": "48fb729b",
   "metadata": {},
   "outputs": [
    {
     "name": "stdout",
     "output_type": "stream",
     "text": [
      "\n",
      "tokens_tensors: torch.Size([64, 44])\n",
      "tensor([[ 101, 5928,    0,  ...,    0,    0,    0],\n",
      "        [ 101, 1103, 1692,  ...,    0,    0,    0],\n",
      "        [ 101, 1106, 1321,  ...,    0,    0,    0],\n",
      "        ...,\n",
      "        [ 101, 1110, 1126,  ...,    0,    0,    0],\n",
      "        [ 101,  117, 1122,  ...,    0,    0,    0],\n",
      "        [ 101, 1110, 1120,  ...,    0,    0,    0]])\n",
      "-------------------------------------\n",
      "segments_tensors: torch.Size([64, 44])\n",
      "tensor([[0, 0, 0,  ..., 0, 0, 0],\n",
      "        [0, 0, 0,  ..., 0, 0, 0],\n",
      "        [0, 0, 0,  ..., 0, 0, 0],\n",
      "        ...,\n",
      "        [0, 0, 0,  ..., 0, 0, 0],\n",
      "        [0, 0, 0,  ..., 0, 0, 0],\n",
      "        [0, 0, 0,  ..., 0, 0, 0]])\n",
      "------------------------------------------\n",
      "masks_tensors: torch.Size([64, 44])\n",
      "tensor([[1, 1, 0,  ..., 0, 0, 0],\n",
      "        [1, 1, 1,  ..., 0, 0, 0],\n",
      "        [1, 1, 1,  ..., 0, 0, 0],\n",
      "        ...,\n",
      "        [1, 1, 1,  ..., 0, 0, 0],\n",
      "        [1, 1, 1,  ..., 0, 0, 0],\n",
      "        [1, 1, 1,  ..., 0, 0, 0]])\n",
      "------------------------------------\n",
      "label_ids.shape = torch.Size([64])\n",
      "tensor([2, 0, 2, 2, 2, 3, 4, 2, 2, 3, 2, 1, 3, 2, 2, 1, 2, 4, 3, 3, 3, 2, 4, 2,\n",
      "        2, 1, 1, 2, 3, 2, 2, 2, 2, 1, 1, 2, 2, 2, 1, 2, 2, 2, 3, 1, 2, 2, 2, 2,\n",
      "        2, 0, 2, 2, 3, 2, 2, 1, 3, 1, 2, 2, 2, 1, 2, 1])\n",
      "\n"
     ]
    }
   ],
   "source": [
    "data = next(iter(trainloader))\n",
    "\n",
    "tokens_tensors, segments_tensors, masks_tensors, label_ids = data  \n",
    "\n",
    "# tokens_tensors, segments_tensors, masks_tensors因長度不同需padding  \n",
    "print(f\"\"\"\n",
    "tokens_tensors: {tokens_tensors.shape}\n",
    "{tokens_tensors}\n",
    "-------------------------------------\n",
    "segments_tensors: {segments_tensors.shape}\n",
    "{segments_tensors}\n",
    "------------------------------------------\n",
    "masks_tensors: {masks_tensors.shape}\n",
    "{masks_tensors}\n",
    "------------------------------------\n",
    "label_ids.shape = {label_ids.shape}\n",
    "{label_ids}\n",
    "\"\"\")"
   ]
  },
  {
   "cell_type": "markdown",
   "id": "475296db",
   "metadata": {},
   "source": [
    " <a id = finetune></a>\n",
    "### ●下游任務模型"
   ]
  },
  {
   "cell_type": "code",
   "execution_count": 13,
   "id": "8e2f76dd",
   "metadata": {},
   "outputs": [
    {
     "name": "stdout",
     "output_type": "stream",
     "text": [
      "\n",
      "name     module\n",
      "-------------------\n",
      "bert : embeddings\n",
      "bert : encoder\n",
      "bert : pooler\n",
      "dropout        Dropout(p=0.1, inplace=False)\n",
      "classifier     Linear(in_features=768, out_features=5, bias=True)\n"
     ]
    }
   ],
   "source": [
    "PRETRAINED_MODEL_NAME = 'bert-base-cased'\n",
    "NUM_LABELS = 5\n",
    "model = BertForSequenceClassification.from_pretrained(PRETRAINED_MODEL_NAME, num_labels = NUM_LABELS) \n",
    "clear_output()\n",
    "\n",
    "print(\"\"\"\n",
    "name     module\n",
    "-------------------\"\"\")\n",
    "for name, module in model.named_children():\n",
    "    if name == 'bert':\n",
    "        for n, _ in module.named_children():\n",
    "            print(f'{name} : {n}')\n",
    "    else:\n",
    "        print('{:15}{}'.format(name, module))"
   ]
  },
  {
   "cell_type": "markdown",
   "id": "5c6989b9",
   "metadata": {},
   "source": [
    "<a id = model></a>\n",
    "### ● 訓練模型"
   ]
  },
  {
   "cell_type": "code",
   "execution_count": 14,
   "id": "6ee3853e",
   "metadata": {},
   "outputs": [
    {
     "name": "stdout",
     "output_type": "stream",
     "text": [
      "device: cpu\n",
      "初始 classification acc: 17.49\n"
     ]
    }
   ],
   "source": [
    "def get_predictions(model, dataloader, compute_acc=False):\n",
    "    predictions = None\n",
    "    correct = 0\n",
    "    total = 0\n",
    "      \n",
    "    with torch.no_grad():\n",
    "        # 遍巡整個資料集\n",
    "        for data in dataloader:\n",
    "            # 將所有 tensors 移到 GPU 上\n",
    "            if next(model.parameters()).is_cuda:\n",
    "                data = [t.to(\"cuda:0\") for t in data if t is not None]\n",
    "            \n",
    "            \n",
    "            # 別忘記前 3 個 tensors 分別為 tokens, segments 以及 masks\n",
    "            # 且強烈建議在將這些 tensors 丟入 `model` 時指定對應的參數名稱\n",
    "            tokens_tensors, segments_tensors, masks_tensors = data[:3]\n",
    "            outputs = model(input_ids=tokens_tensors, \n",
    "                            token_type_ids=segments_tensors, \n",
    "                            attention_mask=masks_tensors)\n",
    "            \n",
    "            logits = outputs[0]\n",
    "            _, pred = torch.max(logits.data, 1)\n",
    "            \n",
    "            # 用來計算訓練集的分類準確率\n",
    "            if compute_acc:\n",
    "                labels = data[3]\n",
    "                total += labels.size(0)\n",
    "                correct += (pred == labels).sum().item()\n",
    "                \n",
    "            # 將當前 batch 記錄下來\n",
    "            if predictions is None:\n",
    "                predictions = pred\n",
    "            else:\n",
    "                predictions = torch.cat((predictions, pred))\n",
    "    \n",
    "    if compute_acc:\n",
    "        acc = correct / total\n",
    "        return predictions, acc\n",
    "    return predictions\n",
    "    \n",
    "# 讓模型跑在 GPU 上並取得訓練集的分類準確率\n",
    "device = torch.device(\"cuda:0\" if torch.cuda.is_available() else \"cpu\")\n",
    "print(\"device:\", device)\n",
    "model = model.to(device)\n",
    "_, acc = get_predictions(model, trainloader, compute_acc=True)\n",
    "print(\"初始 classification acc:\", round(acc * 100, 2))"
   ]
  },
  {
   "cell_type": "code",
   "execution_count": 15,
   "id": "2f676ea5",
   "metadata": {},
   "outputs": [
    {
     "name": "stdout",
     "output_type": "stream",
     "text": [
      "\n",
      "整體模型參數： 108314117\n",
      "線性模型參數: 3845\n",
      "\n"
     ]
    }
   ],
   "source": [
    "def get_learnable_params(module):\n",
    "    return [p for p in module.parameters() if p.requires_grad] \n",
    "\n",
    "model_params = get_learnable_params(model)\n",
    "clf_params = get_learnable_params(model.classifier)\n",
    "\n",
    "print(f'''\n",
    "整體模型參數： {sum(p.numel() for p in model_params)}\n",
    "線性模型參數: {sum(p.numel() for p in clf_params)}\n",
    "''')"
   ]
  },
  {
   "cell_type": "code",
   "execution_count": 16,
   "id": "dfe404a6",
   "metadata": {},
   "outputs": [
    {
     "name": "stdout",
     "output_type": "stream",
     "text": [
      "[epoch 1] loss: 37.236, acc: 0.502\n",
      "[epoch 2] loss: 31.860, acc: 0.511\n",
      "[epoch 3] loss: 29.769, acc: 0.552\n",
      "[epoch 4] loss: 26.816, acc: 0.626\n",
      "[epoch 5] loss: 23.459, acc: 0.683\n",
      "[epoch 6] loss: 20.695, acc: 0.744\n",
      "CPU times: user 2h 26min 1s, sys: 13.4 s, total: 2h 26min 14s\n",
      "Wall time: 24min 59s\n"
     ]
    }
   ],
   "source": [
    "%%time\n",
    "model.train()\n",
    "\n",
    "optimizer = torch.optim.Adam(model.parameters(), lr = 1e-5) \n",
    "EPOCHS = 6  #\n",
    "for epoch in range(EPOCHS):\n",
    "    \n",
    "    running_loss = 0.0\n",
    "    for data_ in trainloader:\n",
    "        \n",
    "        tokens_tensors, segments_tensors, \\\n",
    "        masks_tensors, labels = [t.to(device) for t in data_]\n",
    "\n",
    "        # 將參數梯度歸零\n",
    "        optimizer.zero_grad()\n",
    "        \n",
    "        # forward pass\n",
    "        outputs = model(input_ids = tokens_tensors, \n",
    "                        token_type_ids = segments_tensors, \n",
    "                        attention_mask = masks_tensors, \n",
    "                        labels = labels)\n",
    "\n",
    "        loss = outputs[0]\n",
    "        # backward\n",
    "        loss.backward()\n",
    "        optimizer.step()\n",
    "\n",
    "\n",
    "        # 紀錄當前 batch loss\n",
    "        running_loss += loss.item()\n",
    "        \n",
    "    # 計算分類準確率\n",
    "    _, acc = get_predictions(model, trainloader, compute_acc=True)\n",
    "\n",
    "    print('[epoch %d] loss: %.3f, acc: %.3f' %\n",
    "          (epoch + 1, running_loss, acc))"
   ]
  },
  {
   "cell_type": "markdown",
   "id": "460b3ea9",
   "metadata": {},
   "source": [
    "<a id = predict></a>\n",
    "### ● 新樣本預測"
   ]
  },
  {
   "cell_type": "code",
   "execution_count": 17,
   "id": "474e1b35",
   "metadata": {},
   "outputs": [
    {
     "name": "stdout",
     "output_type": "stream",
     "text": [
      "CPU times: user 34.8 ms, sys: 7.98 ms, total: 42.8 ms\n",
      "Wall time: 42 ms\n"
     ]
    }
   ],
   "source": [
    "%%time\n",
    "testset = SentiDataset('test1', tokenizer = tokenizer)\n",
    "testloader = DataLoader(testset, batch_size = 256, collate_fn = create_mini_batch) "
   ]
  },
  {
   "cell_type": "code",
   "execution_count": 18,
   "id": "95be45ae",
   "metadata": {},
   "outputs": [],
   "source": [
    "predictions = get_predictions(model, testloader)"
   ]
  },
  {
   "cell_type": "code",
   "execution_count": 19,
   "id": "124e2c5f",
   "metadata": {},
   "outputs": [],
   "source": [
    "df = pd.DataFrame({'Sentiment': predictions.tolist()})"
   ]
  },
  {
   "cell_type": "code",
   "execution_count": 20,
   "id": "1d6e4fb8",
   "metadata": {},
   "outputs": [],
   "source": [
    "final = pd.concat([test_['PhraseId'], df], axis = 1)\n",
    "final.Sentiment = final.Sentiment.astype('str')\n",
    "final.Sentiment = final.Sentiment.str.replace('.0', '')"
   ]
  },
  {
   "cell_type": "code",
   "execution_count": 21,
   "id": "aef7c057",
   "metadata": {},
   "outputs": [
    {
     "data": {
      "text/html": [
       "<div>\n",
       "<style scoped>\n",
       "    .dataframe tbody tr th:only-of-type {\n",
       "        vertical-align: middle;\n",
       "    }\n",
       "\n",
       "    .dataframe tbody tr th {\n",
       "        vertical-align: top;\n",
       "    }\n",
       "\n",
       "    .dataframe thead th {\n",
       "        text-align: right;\n",
       "    }\n",
       "</style>\n",
       "<table border=\"1\" class=\"dataframe\">\n",
       "  <thead>\n",
       "    <tr style=\"text-align: right;\">\n",
       "      <th></th>\n",
       "      <th>PhraseId</th>\n",
       "      <th>Sentiment</th>\n",
       "    </tr>\n",
       "  </thead>\n",
       "  <tbody>\n",
       "    <tr>\n",
       "      <th>0</th>\n",
       "      <td>156061</td>\n",
       "      <td>3</td>\n",
       "    </tr>\n",
       "    <tr>\n",
       "      <th>1</th>\n",
       "      <td>156062</td>\n",
       "      <td>3</td>\n",
       "    </tr>\n",
       "    <tr>\n",
       "      <th>2</th>\n",
       "      <td>156063</td>\n",
       "      <td>2</td>\n",
       "    </tr>\n",
       "    <tr>\n",
       "      <th>3</th>\n",
       "      <td>156064</td>\n",
       "      <td>2</td>\n",
       "    </tr>\n",
       "    <tr>\n",
       "      <th>4</th>\n",
       "      <td>156065</td>\n",
       "      <td>3</td>\n",
       "    </tr>\n",
       "  </tbody>\n",
       "</table>\n",
       "</div>"
      ],
      "text/plain": [
       "   PhraseId Sentiment\n",
       "0    156061         3\n",
       "1    156062         3\n",
       "2    156063         2\n",
       "3    156064         2\n",
       "4    156065         3"
      ]
     },
     "execution_count": 21,
     "metadata": {},
     "output_type": "execute_result"
    }
   ],
   "source": [
    "final.head()"
   ]
  },
  {
   "cell_type": "code",
   "execution_count": 22,
   "id": "feb7a326",
   "metadata": {},
   "outputs": [],
   "source": [
    "final.to_csv('/home/bettyliao/sentiment/output/bert_result1.csv', index = False) "
   ]
  },
  {
   "cell_type": "code",
   "execution_count": 23,
   "id": "f274b1f7",
   "metadata": {},
   "outputs": [
    {
     "data": {
      "text/plain": [
       "BertConfig {\n",
       "  \"_name_or_path\": \"bert-base-cased\",\n",
       "  \"architectures\": [\n",
       "    \"BertForMaskedLM\"\n",
       "  ],\n",
       "  \"attention_probs_dropout_prob\": 0.1,\n",
       "  \"classifier_dropout\": null,\n",
       "  \"gradient_checkpointing\": false,\n",
       "  \"hidden_act\": \"gelu\",\n",
       "  \"hidden_dropout_prob\": 0.1,\n",
       "  \"hidden_size\": 768,\n",
       "  \"id2label\": {\n",
       "    \"0\": \"LABEL_0\",\n",
       "    \"1\": \"LABEL_1\",\n",
       "    \"2\": \"LABEL_2\",\n",
       "    \"3\": \"LABEL_3\",\n",
       "    \"4\": \"LABEL_4\"\n",
       "  },\n",
       "  \"initializer_range\": 0.02,\n",
       "  \"intermediate_size\": 3072,\n",
       "  \"label2id\": {\n",
       "    \"LABEL_0\": 0,\n",
       "    \"LABEL_1\": 1,\n",
       "    \"LABEL_2\": 2,\n",
       "    \"LABEL_3\": 3,\n",
       "    \"LABEL_4\": 4\n",
       "  },\n",
       "  \"layer_norm_eps\": 1e-12,\n",
       "  \"max_position_embeddings\": 512,\n",
       "  \"model_type\": \"bert\",\n",
       "  \"num_attention_heads\": 12,\n",
       "  \"num_hidden_layers\": 12,\n",
       "  \"pad_token_id\": 0,\n",
       "  \"position_embedding_type\": \"absolute\",\n",
       "  \"problem_type\": \"single_label_classification\",\n",
       "  \"transformers_version\": \"4.16.2\",\n",
       "  \"type_vocab_size\": 2,\n",
       "  \"use_cache\": true,\n",
       "  \"vocab_size\": 28996\n",
       "}"
      ]
     },
     "execution_count": 23,
     "metadata": {},
     "output_type": "execute_result"
    }
   ],
   "source": [
    "model.config"
   ]
  },
  {
   "cell_type": "markdown",
   "id": "13abbc58",
   "metadata": {},
   "source": [
    "參考資料：  \n",
    "https://medium.com/programming-with-data/32-transformer-%E9%A0%90%E8%A8%93%E7%B7%B4-%E9%9B%86%E5%A4%A7%E6%88%90%E7%9A%84-bert-%E6%A8%A1%E5%9E%8B-c928530f6db8"
   ]
  }
 ],
 "metadata": {
  "kernelspec": {
   "display_name": "Python 3",
   "language": "python",
   "name": "python3"
  },
  "language_info": {
   "codemirror_mode": {
    "name": "ipython",
    "version": 3
   },
   "file_extension": ".py",
   "mimetype": "text/x-python",
   "name": "python",
   "nbconvert_exporter": "python",
   "pygments_lexer": "ipython3",
   "version": "3.6.9"
  }
 },
 "nbformat": 4,
 "nbformat_minor": 5
}
